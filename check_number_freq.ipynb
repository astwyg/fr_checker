{
 "cells": [
  {
   "cell_type": "code",
   "execution_count": 1,
   "metadata": {
    "collapsed": true
   },
   "outputs": [],
   "source": [
    "from pdfminer.pdfparser import PDFParser,PDFDocument\n",
    "from pdfminer.pdfinterp import PDFResourceManager, PDFPageInterpreter\n",
    "from pdfminer.converter import PDFPageAggregator\n",
    "from pdfminer.layout import LTTextBoxHorizontal,LAParams\n",
    "from pdfminer.pdfinterp import PDFTextExtractionNotAllowed\n",
    "\n",
    "import matplotlib\n",
    "import matplotlib.pyplot as plt\n",
    "%matplotlib inline"
   ]
  },
  {
   "cell_type": "code",
   "execution_count": 2,
   "metadata": {
    "collapsed": true
   },
   "outputs": [],
   "source": [
    "FILE_NAME = \"2016年报.PDF\""
   ]
  },
  {
   "cell_type": "code",
   "execution_count": 3,
   "metadata": {
    "collapsed": true
   },
   "outputs": [],
   "source": [
    "numbers_cnt = {}\n",
    "for cnt in range(1,10):\n",
    "    numbers_cnt[str(cnt)] = 0"
   ]
  },
  {
   "cell_type": "code",
   "execution_count": 4,
   "metadata": {},
   "outputs": [
    {
     "name": "stderr",
     "output_type": "stream",
     "text": [
      "WARNING:pdfminer.layout:Too many boxes (109) to group, skipping.\n",
      "WARNING:pdfminer.layout:Too many boxes (122) to group, skipping.\n",
      "WARNING:pdfminer.layout:Too many boxes (113) to group, skipping.\n",
      "WARNING:pdfminer.layout:Too many boxes (164) to group, skipping.\n",
      "WARNING:pdfminer.layout:Too many boxes (133) to group, skipping.\n",
      "WARNING:pdfminer.layout:Too many boxes (164) to group, skipping.\n",
      "WARNING:pdfminer.layout:Too many boxes (155) to group, skipping.\n",
      "WARNING:pdfminer.layout:Too many boxes (165) to group, skipping.\n",
      "WARNING:pdfminer.layout:Too many boxes (142) to group, skipping.\n",
      "WARNING:pdfminer.layout:Too many boxes (165) to group, skipping.\n",
      "WARNING:pdfminer.layout:Too many boxes (155) to group, skipping.\n",
      "WARNING:pdfminer.layout:Too many boxes (144) to group, skipping.\n",
      "WARNING:pdfminer.layout:Too many boxes (143) to group, skipping.\n",
      "WARNING:pdfminer.layout:Too many boxes (163) to group, skipping.\n",
      "WARNING:pdfminer.layout:Too many boxes (154) to group, skipping.\n",
      "WARNING:pdfminer.layout:Too many boxes (234) to group, skipping.\n",
      "WARNING:pdfminer.layout:Too many boxes (286) to group, skipping.\n",
      "WARNING:pdfminer.layout:Too many boxes (326) to group, skipping.\n",
      "WARNING:pdfminer.layout:Too many boxes (198) to group, skipping.\n",
      "WARNING:pdfminer.layout:Too many boxes (251) to group, skipping.\n",
      "WARNING:pdfminer.layout:Too many boxes (244) to group, skipping.\n",
      "WARNING:pdfminer.layout:Too many boxes (144) to group, skipping.\n",
      "WARNING:pdfminer.layout:Too many boxes (105) to group, skipping.\n",
      "WARNING:pdfminer.layout:Too many boxes (125) to group, skipping.\n",
      "WARNING:pdfminer.layout:Too many boxes (189) to group, skipping.\n",
      "WARNING:pdfminer.layout:Too many boxes (106) to group, skipping.\n",
      "WARNING:pdfminer.layout:Too many boxes (112) to group, skipping.\n",
      "WARNING:pdfminer.layout:Too many boxes (192) to group, skipping.\n",
      "WARNING:pdfminer.layout:Too many boxes (106) to group, skipping.\n",
      "WARNING:pdfminer.layout:Too many boxes (108) to group, skipping.\n",
      "WARNING:pdfminer.layout:Too many boxes (107) to group, skipping.\n",
      "WARNING:pdfminer.layout:Too many boxes (125) to group, skipping.\n",
      "WARNING:pdfminer.layout:Too many boxes (114) to group, skipping.\n",
      "WARNING:pdfminer.layout:Too many boxes (104) to group, skipping.\n"
     ]
    }
   ],
   "source": [
    "with open(FILE_NAME, 'rb') as fp:\n",
    "    #用文件对象来创建一个pdf文档分析器\n",
    "    praser = PDFParser(fp)\n",
    "    # 创建一个PDF文档\n",
    "    doc = PDFDocument()\n",
    "    # 连接分析器 与文档对象\n",
    "    praser.set_document(doc)\n",
    "    doc.set_parser(praser)\n",
    "    # 提供初始化密码\n",
    "    # 如果没有密码 就创建一个空的字符串\n",
    "    doc.initialize()\n",
    "    \n",
    "    # 检测文档是否提供txt转换，不提供就忽略\n",
    "    if not doc.is_extractable:\n",
    "        raise PDFTextExtractionNotAllowed\n",
    "    else:\n",
    "        # 创建PDf 资源管理器 来管理共享资源\n",
    "        rsrcmgr = PDFResourceManager()\n",
    "        # 创建一个PDF设备对象\n",
    "        laparams = LAParams()\n",
    "        device = PDFPageAggregator(rsrcmgr, laparams=laparams)\n",
    "        # 创建一个PDF解释器对象\n",
    "        interpreter = PDFPageInterpreter(rsrcmgr, device)\n",
    "\n",
    "        # 循环遍历列表，每次处理一个page的内容\n",
    "        for page in doc.get_pages(): # doc.get_pages() 获取page列表\n",
    "            interpreter.process_page(page)\n",
    "            # 接受该页面的LTPage对象\n",
    "            layout = device.get_result()\n",
    "            # 这里layout是一个LTPage对象 里面存放着 这个page解析出的各种对象 一般包括LTTextBox, LTFigure, LTImage, LTTextBoxHorizontal 等等 想要获取文本就获得对象的text属性，\n",
    "            for x in layout:\n",
    "                if (isinstance(x, LTTextBoxHorizontal)):\n",
    "                    results = x.get_text()\n",
    "                    for cnt in range(1,10):\n",
    "                        numbers_cnt[str(cnt)] = numbers_cnt[str(cnt)] + results.count(str(cnt))\n",
    "                    "
   ]
  },
  {
   "cell_type": "code",
   "execution_count": 5,
   "metadata": {},
   "outputs": [
    {
     "name": "stdout",
     "output_type": "stream",
     "text": [
      "{'1': 0.19282932724587082, '2': 0.14280918490667383, '3': 0.09755606284409829, '4': 0.09970457902511078, '5': 0.11131999462870955, '6': 0.11749697864912045, '7': 0.083053578622264, '8': 0.08070363904928159, '9': 0.07452665502887068}\n"
     ]
    }
   ],
   "source": [
    "numbers_total = 0\n",
    "for k,v in numbers_cnt.items():\n",
    "    numbers_total = numbers_total + v\n",
    "\n",
    "for k in numbers_cnt.keys():\n",
    "    numbers_cnt[k] = numbers_cnt[k]/numbers_total\n",
    "    \n",
    "print(numbers_cnt)"
   ]
  },
  {
   "cell_type": "code",
   "execution_count": 6,
   "metadata": {},
   "outputs": [
    {
     "data": {
      "image/png": "[encoded data removed]",
      "text/plain": [
       "<matplotlib.figure.Figure at 0x1e1bc532080>"
      ]
     },
     "metadata": {},
     "output_type": "display_data"
    },
    {
     "name": "stdout",
     "output_type": "stream",
     "text": [
      "本福法则平方差为: 0.019481294012138124\n"
     ]
    }
   ],
   "source": [
    "# according https://www.zhihu.com/question/33540315\n",
    "\n",
    "common_cnt = {\n",
    "    \"1\":0.301,\n",
    "    \"2\":0.176,\n",
    "    \"3\":0.125,\n",
    "    \"4\":0.097,\n",
    "    \"5\":0.079,\n",
    "    \"6\":0.067,\n",
    "    \"7\":0.058,\n",
    "    \"8\":0.051,\n",
    "    \"9\":0.046\n",
    "}\n",
    "\n",
    "plt.plot(range(1,10),[numbers_cnt[str(i)] for i in range(1,10)])\n",
    "plt.plot(range(1,10),[common_cnt[str(i)] for i in range(1,10)])\n",
    "plt.show()\n",
    "\n",
    "# 计算平方和\n",
    "import math\n",
    "sos = 0\n",
    "for i in range(1,10):\n",
    "    sos = sos + math.pow(common_cnt[str(i)]-numbers_cnt[str(i)],2)\n",
    "print(\"本福法则平方差为: {}\".format(sos))"
   ]
  },
  {
   "cell_type": "code",
   "execution_count": null,
   "metadata": {
    "collapsed": true
   },
   "outputs": [],
   "source": []
  }
 ],
 "metadata": {
  "kernelspec": {
   "display_name": "Python 3",
   "language": "python",
   "name": "python3"
  },
  "language_info": {
   "codemirror_mode": {
    "name": "ipython",
    "version": 3
   },
   "file_extension": ".py",
   "mimetype": "text/x-python",
   "name": "python",
   "nbconvert_exporter": "python",
   "pygments_lexer": "ipython3",
   "version": "3.6.1"
  }
 },
 "nbformat": 4,
 "nbformat_minor": 2
}
